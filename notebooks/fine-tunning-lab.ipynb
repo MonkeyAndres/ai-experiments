{
 "cells": [
  {
   "cell_type": "markdown",
   "metadata": {},
   "source": [
    "# Fine Tunning LLMs Lab\n",
    "\n",
    "Just some quick lab for fine-tunning small models and estimating cost/quality.\n"
   ]
  }
 ],
 "metadata": {
  "language_info": {
   "name": "python"
  }
 },
 "nbformat": 4,
 "nbformat_minor": 2
}
